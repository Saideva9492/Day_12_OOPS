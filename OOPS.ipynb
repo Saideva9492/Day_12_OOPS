{
 "cells": [
  {
   "cell_type": "code",
   "execution_count": 19,
   "id": "fb18f6c5-01eb-4e5f-a7e7-31c6f0367806",
   "metadata": {},
   "outputs": [],
   "source": [
    "class student_info:\n",
    "\n",
    "    def __init__(self,Name,Age,Address,Number,Gender):\n",
    "        self.Name=Name\n",
    "        self.Age=Age\n",
    "        self.Address=Address\n",
    "        self.Number=Number\n",
    "        \n",
    "        self.Gender=Gender\n",
    "\n",
    "    def greet(self):\n",
    "        print(f' Hello {self.Name} May I confirm your details: Age: {self.Age} and i think you will be {self.Age+10} in next 10 years ,so your Address is this  {self.Address} ) is this your Number right that is  {self.Number}  ,so in the last your gender is {self.Gender}')"
   ]
  },
  {
   "cell_type": "code",
   "execution_count": 21,
   "id": "abd5d984-0f5c-4091-8d06-4272ca58f48c",
   "metadata": {},
   "outputs": [],
   "source": [
    "student_1=student_info('Payal',23,\"Plotno- 20\",+101010,'Female')"
   ]
  },
  {
   "cell_type": "code",
   "execution_count": 22,
   "id": "14d808ac-a62f-4ae2-8ca4-63ecc4a3ac34",
   "metadata": {
    "scrolled": true
   },
   "outputs": [
    {
     "name": "stdout",
     "output_type": "stream",
     "text": [
      " Hello Payal May I confirm your details: Age: 23 and i think you will be 33 in next 10 years ,so your Address is this  Plotno- 20 ) is this your Number right that is  101010  ,so in the last your gender is Female\n"
     ]
    }
   ],
   "source": [
    "student_1.greet()"
   ]
  },
  {
   "cell_type": "code",
   "execution_count": 23,
   "id": "5a7c0ee7-eaec-45eb-82fc-bd02bc7cd134",
   "metadata": {},
   "outputs": [
    {
     "name": "stdout",
     "output_type": "stream",
     "text": [
      " Hello Arun May I confirm your details: Age: 25 and i think you will be 35 in next 10 years ,so your Address is this  Plotno- 43 ) is this your Number right that is  101088  ,so in the last your gender is male\n"
     ]
    }
   ],
   "source": [
    "student_2=student_info('Arun',25,\"Plotno- 43\",+101088,'male')\n",
    "student_2.greet()"
   ]
  },
  {
   "cell_type": "code",
   "execution_count": 28,
   "id": "6ee0b57f",
   "metadata": {},
   "outputs": [
    {
     "data": {
      "text/plain": [
       "101088"
      ]
     },
     "execution_count": 28,
     "metadata": {},
     "output_type": "execute_result"
    }
   ],
   "source": [
    "student_2.Number"
   ]
  },
  {
   "cell_type": "code",
   "execution_count": null,
   "id": "1ac7e49b",
   "metadata": {},
   "outputs": [],
   "source": []
  }
 ],
 "metadata": {
  "kernelspec": {
   "display_name": "Python 3 (ipykernel)",
   "language": "python",
   "name": "python3"
  },
  "language_info": {
   "codemirror_mode": {
    "name": "ipython",
    "version": 3
   },
   "file_extension": ".py",
   "mimetype": "text/x-python",
   "name": "python",
   "nbconvert_exporter": "python",
   "pygments_lexer": "ipython3",
   "version": "3.11.5"
  }
 },
 "nbformat": 4,
 "nbformat_minor": 5
}
